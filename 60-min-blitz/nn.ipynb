{
 "cells": [
  {
   "cell_type": "markdown",
   "id": "1d86b0cf-da85-45bc-ac8a-831239704352",
   "metadata": {},
   "source": [
    "A typical training procedure for a neural network is as follows:\n",
    "\n",
    "- Define the neural network that has some learnable parameters (or weights)\n",
    "- Iterate over a dataset of inputs\n",
    "- Process input through the network\n",
    "- Compute the loss (how far is the output from being correct)\n",
    "- Propagate gradients back into the network’s parameters\n",
    "- Update the weights of the network, typically using a simple update rule: weight = weight - learning_rate * gradient"
   ]
  },
  {
   "cell_type": "code",
   "execution_count": 1,
   "id": "e515ab7a-56b4-4a41-9a72-3e99b1baea12",
   "metadata": {},
   "outputs": [],
   "source": [
    "import torch\n",
    "import torch.nn as nn\n",
    "import torch.nn.functional as F\n",
    "import torch.optim as optim"
   ]
  },
  {
   "cell_type": "code",
   "execution_count": 2,
   "id": "c4fe7ab5-a670-47ef-b70d-b4b7901235e3",
   "metadata": {},
   "outputs": [],
   "source": [
    "class Net(nn.Module):\n",
    "    def __init__(self):\n",
    "        # inherit from parent class\n",
    "        super(Net, self).__init__()\n",
    "        # define self\n",
    "        # kernel: input, output, kernel size (5x5 square convolution)\n",
    "        self.conv1 = nn.Conv2d(1, 6, 5)\n",
    "        self.conv2 = nn.Conv2d(6, 16, 5)\n",
    "        # an affine operation: y = Wx + b\n",
    "        self.fc1 = nn.Linear(16 * 5 * 5, 120)  # 5*5 from image dimension\n",
    "        self.fc2 = nn.Linear(120, 84)\n",
    "        self.fc3 = nn.Linear(84, 10)\n",
    "        \n",
    "    def forward(self, x):\n",
    "        # Max pooling over a (2, 2) window\n",
    "        x = F.max_pool2d(F.relu(self.conv1(x)), (2, 2))\n",
    "        # If the size is a square, you can specify with a single number\n",
    "        x = F.max_pool2d(F.relu(self.conv2(x)), 2)\n",
    "        # flatten all dimensions except the batch dimension\n",
    "        x = torch.flatten(x, 1) \n",
    "        x = F.relu(self.fc1(x))\n",
    "        x = F.relu(self.fc2(x))\n",
    "        x = self.fc3(x)\n",
    "        return x\n",
    "    # backward function is automatically defined using autograd"
   ]
  },
  {
   "cell_type": "code",
   "execution_count": 3,
   "id": "9efe1cfc-6390-4bd5-8a1e-c75b8ebd05fc",
   "metadata": {},
   "outputs": [
    {
     "name": "stdout",
     "output_type": "stream",
     "text": [
      "Net(\n",
      "  (conv1): Conv2d(1, 6, kernel_size=(5, 5), stride=(1, 1))\n",
      "  (conv2): Conv2d(6, 16, kernel_size=(5, 5), stride=(1, 1))\n",
      "  (fc1): Linear(in_features=400, out_features=120, bias=True)\n",
      "  (fc2): Linear(in_features=120, out_features=84, bias=True)\n",
      "  (fc3): Linear(in_features=84, out_features=10, bias=True)\n",
      ")\n"
     ]
    }
   ],
   "source": [
    "net = Net()\n",
    "print(net)"
   ]
  },
  {
   "cell_type": "code",
   "execution_count": 4,
   "id": "a0cd5345-7dd0-4e6e-8b33-f3a70ecf6cbf",
   "metadata": {},
   "outputs": [
    {
     "name": "stdout",
     "output_type": "stream",
     "text": [
      "10\n",
      "torch.Size([6, 1, 5, 5])\n",
      "torch.Size([6])\n"
     ]
    }
   ],
   "source": [
    "# The learnable parameters of a model are returned by net.parameters()\n",
    "params = list(net.parameters())\n",
    "print(len(params))\n",
    "print(params[0].size())  # conv1's .weight\n",
    "print(params[1].size())  # conv1's .bias"
   ]
  },
  {
   "cell_type": "code",
   "execution_count": 5,
   "id": "e102c6da-f1cd-45c9-97da-5c87bfe8e41c",
   "metadata": {},
   "outputs": [
    {
     "name": "stdout",
     "output_type": "stream",
     "text": [
      "tensor([[ 0.0290,  0.1507, -0.0111, -0.0270, -0.1634, -0.0729, -0.0216,  0.1128,\n",
      "          0.0079,  0.0091]], grad_fn=<AddmmBackward0>)\n"
     ]
    }
   ],
   "source": [
    "# try a random 32x32 input.\n",
    "input = torch.randn(1, 1, 32, 32)\n",
    "out = net(input)\n",
    "print(out)"
   ]
  },
  {
   "cell_type": "code",
   "execution_count": 6,
   "id": "86f9600e-f3ec-44ba-8b7a-470299d788e9",
   "metadata": {},
   "outputs": [],
   "source": [
    "# call backward\n",
    "net.zero_grad()\n",
    "out.backward(torch.randn(1, 10))"
   ]
  },
  {
   "cell_type": "code",
   "execution_count": 7,
   "id": "8f3c4660-9c3d-4adc-b6a8-7d601803677c",
   "metadata": {},
   "outputs": [
    {
     "name": "stdout",
     "output_type": "stream",
     "text": [
      "tensor(1.5527, grad_fn=<MseLossBackward0>)\n"
     ]
    }
   ],
   "source": [
    "# Loss Function\n",
    "output = net(input)\n",
    "target = torch.randn(10)  # a dummy target, for example\n",
    "target = target.view(1, -1)  # make it the same shape as output\n",
    "criterion = nn.MSELoss()\n",
    "\n",
    "loss = criterion(output, target)\n",
    "print(loss)"
   ]
  },
  {
   "cell_type": "code",
   "execution_count": 8,
   "id": "7a8ce16e-221d-44f3-b28b-9caac0826ce0",
   "metadata": {},
   "outputs": [
    {
     "name": "stdout",
     "output_type": "stream",
     "text": [
      "<MseLossBackward0 object at 0x7f099cee8a00>\n",
      "<AddmmBackward0 object at 0x7f099cee8af0>\n",
      "<AccumulateGrad object at 0x7f099cee8a00>\n",
      " <MseLossBackward0 object at 0x7f099cee8a00>\n",
      "**** <AddmmBackward0 object at 0x7f099cee8f70>\n",
      "******** <AccumulateGrad object at 0x7f099ce84070>\n",
      "******** <ReluBackward0 object at 0x7f099ce840a0>\n",
      "************ <AddmmBackward0 object at 0x7f099ce844f0>\n",
      "**************** <AccumulateGrad object at 0x7f099ce846d0>\n",
      "**************** <ReluBackward0 object at 0x7f099ce84700>\n",
      "******************** <AddmmBackward0 object at 0x7f099ce84a90>\n",
      "************************ <AccumulateGrad object at 0x7f099ce84c70>\n",
      "************************ <ReshapeAliasBackward0 object at 0x7f099ce84ca0>\n",
      "**************************** <MaxPool2DWithIndicesBackward0 object at 0x7f099ce85070>\n",
      "******************************** <ReluBackward0 object at 0x7f099ce85250>\n",
      "************************************ <ConvolutionBackward0 object at 0x7f099ce85430>\n",
      "**************************************** <MaxPool2DWithIndicesBackward0 object at 0x7f099ce85610>\n",
      "******************************************** <ReluBackward0 object at 0x7f099ce85850>\n",
      "************************************************ <ConvolutionBackward0 object at 0x7f099ce85a60>\n",
      "**************************************************** <AccumulateGrad object at 0x7f099ce85c70>\n",
      "**************************************************** <AccumulateGrad object at 0x7f099ce85ca0>\n",
      "**************************************** <AccumulateGrad object at 0x7f099ce85640>\n",
      "**************************************** <AccumulateGrad object at 0x7f099ce85670>\n",
      "************************ <TBackward0 object at 0x7f099ce84cd0>\n",
      "**************************** <AccumulateGrad object at 0x7f099ce85610>\n",
      "**************** <TBackward0 object at 0x7f099ce84730>\n",
      "******************** <AccumulateGrad object at 0x7f099ce8a2b0>\n",
      "******** <TBackward0 object at 0x7f099ce840d0>\n",
      "************ <AccumulateGrad object at 0x7f099ce8a490>\n"
     ]
    }
   ],
   "source": [
    "print(loss.grad_fn)  # MSELoss\n",
    "print(loss.grad_fn.next_functions[0][0])  # Linear\n",
    "print(loss.grad_fn.next_functions[0][0].next_functions[0][0])  # ReLU\n",
    "\n",
    "# Print Structure\n",
    "def print_graph(g, level=0):\n",
    "    if g == None: return\n",
    "    print('*'*level*4, g)\n",
    "    for subg in g.next_functions:\n",
    "        print_graph(subg[0], level+1)\n",
    "\n",
    "print_graph(loss.grad_fn, 0)"
   ]
  },
  {
   "cell_type": "code",
   "execution_count": 9,
   "id": "a61f8c9d-6453-4d03-8b9b-27dc474f4e30",
   "metadata": {},
   "outputs": [
    {
     "name": "stdout",
     "output_type": "stream",
     "text": [
      "conv1.bias.grad before backward\n",
      "tensor([0., 0., 0., 0., 0., 0.])\n",
      "conv1.bias.grad after backward\n",
      "tensor([ 0.0066,  0.0110,  0.0219, -0.0128, -0.0139, -0.0064])\n"
     ]
    }
   ],
   "source": [
    "net.zero_grad()     # zeroes the gradient buffers of all parameters\n",
    "\n",
    "print('conv1.bias.grad before backward')\n",
    "print(net.conv1.bias.grad)\n",
    "\n",
    "loss.backward()\n",
    "\n",
    "print('conv1.bias.grad after backward')\n",
    "print(net.conv1.bias.grad)"
   ]
  },
  {
   "cell_type": "code",
   "execution_count": 10,
   "id": "b2071e63-db1e-4560-9847-beb706d8912c",
   "metadata": {},
   "outputs": [],
   "source": [
    "# Update Learning Rate\n",
    "learning_rate = 0.01\n",
    "for f in net.parameters():\n",
    "    f.data.sub_(f.grad.data * learning_rate)"
   ]
  },
  {
   "cell_type": "code",
   "execution_count": 11,
   "id": "5b90b913-2992-4eb6-b88d-477e8c5108b6",
   "metadata": {},
   "outputs": [],
   "source": [
    "# Enable different update rules by torch.optim\n",
    "optimizer = optim.SGD(net.parameters(), lr=0.01)\n",
    "\n",
    "# in your training loop:\n",
    "optimizer.zero_grad()   # zero the gradient buffers\n",
    "output = net(input)\n",
    "loss = criterion(output, target)\n",
    "loss.backward()\n",
    "optimizer.step()    # Does the update"
   ]
  }
 ],
 "metadata": {
  "kernelspec": {
   "display_name": "financial_ratio_torch",
   "language": "python",
   "name": "financial_ratio_torch"
  },
  "language_info": {
   "codemirror_mode": {
    "name": "ipython",
    "version": 3
   },
   "file_extension": ".py",
   "mimetype": "text/x-python",
   "name": "python",
   "nbconvert_exporter": "python",
   "pygments_lexer": "ipython3",
   "version": "3.8.13"
  }
 },
 "nbformat": 4,
 "nbformat_minor": 5
}
