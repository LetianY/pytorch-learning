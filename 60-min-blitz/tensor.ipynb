{
 "cells": [
  {
   "cell_type": "code",
   "execution_count": 1,
   "id": "da726885-5d07-4c37-bc24-b0cf667c4526",
   "metadata": {},
   "outputs": [],
   "source": [
    "import torch\n",
    "import numpy as np"
   ]
  },
  {
   "cell_type": "code",
   "execution_count": 2,
   "id": "a7fdeb0a-9970-4005-a096-0636d71fd631",
   "metadata": {},
   "outputs": [
    {
     "name": "stdout",
     "output_type": "stream",
     "text": [
      "Ones Tensor: \n",
      " tensor([[1, 1],\n",
      "        [1, 1]]) \n",
      "\n",
      "Random Tensor: \n",
      " tensor([[0.3120, 0.2559],\n",
      "        [0.3683, 0.9316]]) \n",
      "\n"
     ]
    }
   ],
   "source": [
    "# Create Tensor\n",
    "data = [[1, 2], [3, 4]]\n",
    "x_data = torch.tensor(data)\n",
    "\n",
    "# Create Tensor from numpy\n",
    "np_array = np.array(data)\n",
    "x_np = torch.from_numpy(np_array)\n",
    "\n",
    "# Create Tensor from another tensor\n",
    "x_ones = torch.ones_like(x_data) # ones, retains the properties of x_data\n",
    "print(f\"Ones Tensor: \\n {x_ones} \\n\")\n",
    "\n",
    "x_rand = torch.rand_like(x_data, dtype=torch.float) # std normal randn, overrides the datatype of x_data\n",
    "print(f\"Random Tensor: \\n {x_rand} \\n\")"
   ]
  },
  {
   "cell_type": "code",
   "execution_count": 3,
   "id": "31916ad0-3d68-4e18-82af-07648219dc77",
   "metadata": {},
   "outputs": [
    {
     "name": "stdout",
     "output_type": "stream",
     "text": [
      "Random Tensor: \n",
      " tensor([[0.9236, 0.4680, 0.8060],\n",
      "        [0.7392, 0.1524, 0.0272]]) \n",
      "\n",
      "Ones Tensor: \n",
      " tensor([[1., 1., 1.],\n",
      "        [1., 1., 1.]]) \n",
      "\n",
      "Zeros Tensor: \n",
      " tensor([[0., 0., 0.],\n",
      "        [0., 0., 0.]])\n"
     ]
    }
   ],
   "source": [
    "# Define Tensor Shape\n",
    "shape = (2, 3,)\n",
    "rand_tensor = torch.rand(shape)\n",
    "ones_tensor = torch.ones(shape)\n",
    "zeros_tensor = torch.zeros(shape)\n",
    "\n",
    "print(f\"Random Tensor: \\n {rand_tensor} \\n\")\n",
    "print(f\"Ones Tensor: \\n {ones_tensor} \\n\")\n",
    "print(f\"Zeros Tensor: \\n {zeros_tensor}\")"
   ]
  },
  {
   "cell_type": "code",
   "execution_count": 4,
   "id": "294d4acc-0d26-4a78-84a0-47eb1c5d0f3e",
   "metadata": {},
   "outputs": [
    {
     "name": "stdout",
     "output_type": "stream",
     "text": [
      "Shape of tensor: torch.Size([3, 4])\n",
      "Datatype of tensor: torch.float32\n",
      "Device tensor is stored on: cpu\n"
     ]
    }
   ],
   "source": [
    "# Tensor Attributes\n",
    "tensor = torch.rand(3, 4)\n",
    "\n",
    "print(f\"Shape of tensor: {tensor.shape}\")\n",
    "print(f\"Datatype of tensor: {tensor.dtype}\")\n",
    "print(f\"Device tensor is stored on: {tensor.device}\")"
   ]
  },
  {
   "cell_type": "code",
   "execution_count": 5,
   "id": "3cfe298e-dd41-48c7-ac77-59a86917284b",
   "metadata": {},
   "outputs": [
    {
     "name": "stdout",
     "output_type": "stream",
     "text": [
      "Device tensor is stored on: cuda:0\n"
     ]
    }
   ],
   "source": [
    "# Use GPU\n",
    "# We move our tensor to the GPU if available\n",
    "if torch.cuda.is_available():\n",
    "  tensor = tensor.to('cuda')\n",
    "  print(f\"Device tensor is stored on: {tensor.device}\")"
   ]
  },
  {
   "cell_type": "code",
   "execution_count": 9,
   "id": "0d7f0c85-1adc-4543-a9cb-9b4eaccdb6d5",
   "metadata": {},
   "outputs": [
    {
     "name": "stdout",
     "output_type": "stream",
     "text": [
      "tensor([[0.0416, 0.0000, 0.5894, 0.2760],\n",
      "        [0.7540, 0.0000, 0.9362, 0.7757],\n",
      "        [0.1288, 0.0000, 0.9007, 0.9946],\n",
      "        [0.2331, 0.0000, 0.8375, 0.5056]])\n"
     ]
    }
   ],
   "source": [
    "# Change Value\n",
    "tensor = torch.rand(4, 4)\n",
    "tensor[:,1] = 0\n",
    "print(tensor)"
   ]
  },
  {
   "cell_type": "code",
   "execution_count": 11,
   "id": "0dc2f692-8c60-423b-9c87-cbf0828e24b4",
   "metadata": {},
   "outputs": [
    {
     "name": "stdout",
     "output_type": "stream",
     "text": [
      "tensor([[0.0416, 0.0000, 0.5894, 0.2760, 0.0416, 0.0000, 0.5894, 0.2760, 0.0416,\n",
      "         0.0000, 0.5894, 0.2760],\n",
      "        [0.7540, 0.0000, 0.9362, 0.7757, 0.7540, 0.0000, 0.9362, 0.7757, 0.7540,\n",
      "         0.0000, 0.9362, 0.7757],\n",
      "        [0.1288, 0.0000, 0.9007, 0.9946, 0.1288, 0.0000, 0.9007, 0.9946, 0.1288,\n",
      "         0.0000, 0.9007, 0.9946],\n",
      "        [0.2331, 0.0000, 0.8375, 0.5056, 0.2331, 0.0000, 0.8375, 0.5056, 0.2331,\n",
      "         0.0000, 0.8375, 0.5056]]) \n",
      " tensor([[[0.0416, 0.0000, 0.5894, 0.2760],\n",
      "         [0.0416, 0.0000, 0.5894, 0.2760],\n",
      "         [0.0416, 0.0000, 0.5894, 0.2760]],\n",
      "\n",
      "        [[0.7540, 0.0000, 0.9362, 0.7757],\n",
      "         [0.7540, 0.0000, 0.9362, 0.7757],\n",
      "         [0.7540, 0.0000, 0.9362, 0.7757]],\n",
      "\n",
      "        [[0.1288, 0.0000, 0.9007, 0.9946],\n",
      "         [0.1288, 0.0000, 0.9007, 0.9946],\n",
      "         [0.1288, 0.0000, 0.9007, 0.9946]],\n",
      "\n",
      "        [[0.2331, 0.0000, 0.8375, 0.5056],\n",
      "         [0.2331, 0.0000, 0.8375, 0.5056],\n",
      "         [0.2331, 0.0000, 0.8375, 0.5056]]])\n"
     ]
    }
   ],
   "source": [
    "# Join Tensors\n",
    "t1 = torch.cat([tensor, tensor, tensor], dim=1)\n",
    "t2 = torch.stack([tensor, tensor, tensor], dim=1)\n",
    "print(t1, '\\n', t2)"
   ]
  },
  {
   "cell_type": "code",
   "execution_count": 13,
   "id": "48616007-eeb3-4c42-bdf3-278e4a18aa9a",
   "metadata": {},
   "outputs": [
    {
     "name": "stdout",
     "output_type": "stream",
     "text": [
      "tensor.mul(tensor) \n",
      " tensor([[ 1,  4],\n",
      "        [ 9, 16]]) \n",
      "\n",
      "tensor * tensor \n",
      " tensor([[ 1,  4],\n",
      "        [ 9, 16]])\n"
     ]
    }
   ],
   "source": [
    "# Multiplying Tensors\n",
    "tensor = torch.tensor(data)\n",
    "# This computes the element-wise product\n",
    "print(f\"tensor.mul(tensor) \\n {tensor.mul(tensor)} \\n\")\n",
    "# Alternative syntax:\n",
    "print(f\"tensor * tensor \\n {tensor * tensor}\")"
   ]
  },
  {
   "cell_type": "code",
   "execution_count": 17,
   "id": "9a66cee2-6c0e-4957-9d51-17fc6e4a61c1",
   "metadata": {},
   "outputs": [
    {
     "name": "stdout",
     "output_type": "stream",
     "text": [
      "tensor:\n",
      "tensor([[1, 2],\n",
      "        [3, 4]])\n",
      "tensor([[1, 2],\n",
      "        [3, 4]])\n",
      "\n",
      "tensor.matmul(tensor.T) \n",
      " tensor([[ 5, 11],\n",
      "        [11, 25]]) \n",
      "\n",
      "tensor @ tensor.T \n",
      " tensor([[ 5, 11],\n",
      "        [11, 25]])\n"
     ]
    }
   ],
   "source": [
    "# Matrix Multiplication\n",
    "print(f\"tensor:\\n{tensor}\\n{tensor}\\n\")\n",
    "print(f\"tensor.matmul(tensor.T) \\n {tensor.matmul(tensor.T)} \\n\")\n",
    "# Alternative syntax:\n",
    "print(f\"tensor @ tensor.T \\n {tensor @ tensor.T}\")"
   ]
  },
  {
   "cell_type": "code",
   "execution_count": 18,
   "id": "27e8a758-155c-493f-8cec-4f4a904b7db4",
   "metadata": {},
   "outputs": [
    {
     "name": "stdout",
     "output_type": "stream",
     "text": [
      "tensor([[1, 2],\n",
      "        [3, 4]]) \n",
      "\n",
      "tensor([[6, 7],\n",
      "        [8, 9]])\n"
     ]
    }
   ],
   "source": [
    "# In-place operations\n",
    "print(tensor, \"\\n\")\n",
    "tensor.add_(5)\n",
    "print(tensor)"
   ]
  },
  {
   "cell_type": "code",
   "execution_count": null,
   "id": "d6659819-6e3a-4955-81ec-efd4fd843ff5",
   "metadata": {},
   "outputs": [],
   "source": []
  }
 ],
 "metadata": {
  "kernelspec": {
   "display_name": "financial_ratio_torch",
   "language": "python",
   "name": "financial_ratio_torch"
  },
  "language_info": {
   "codemirror_mode": {
    "name": "ipython",
    "version": 3
   },
   "file_extension": ".py",
   "mimetype": "text/x-python",
   "name": "python",
   "nbconvert_exporter": "python",
   "pygments_lexer": "ipython3",
   "version": "3.8.13"
  }
 },
 "nbformat": 4,
 "nbformat_minor": 5
}
